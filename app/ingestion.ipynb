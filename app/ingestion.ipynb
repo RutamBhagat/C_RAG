{
 "cells": [
  {
   "cell_type": "code",
   "execution_count": 1,
   "metadata": {},
   "outputs": [],
   "source": [
    "from dotenv import load_dotenv, find_dotenv\n",
    "from langchain_openai import OpenAIEmbeddings\n",
    "from langchain_chroma import Chroma\n",
    "\n",
    "\n",
    "_ = load_dotenv(find_dotenv())"
   ]
  },
  {
   "cell_type": "code",
   "execution_count": 2,
   "metadata": {},
   "outputs": [],
   "source": [
    "urls = [\n",
    "    \"https://lilianweng.github.io/posts/2023-06-23-agent/\",\n",
    "    \"https://lilianweng.github.io/posts/2023-03-15-prompt-engineering/\",\n",
    "    \"https://lilianweng.github.io/posts/2023-10-25-adv-attack-llm/\",\n",
    "]"
   ]
  },
  {
   "cell_type": "code",
   "execution_count": 3,
   "metadata": {},
   "outputs": [],
   "source": [
    "from langchain_community.document_loaders import UnstructuredURLLoader\n",
    "from unstructured.cleaners.core import remove_punctuation, clean, clean_extra_whitespace\n",
    "from langchain_community.vectorstores.utils import filter_complex_metadata"
   ]
  },
  {
   "cell_type": "code",
   "execution_count": 4,
   "metadata": {},
   "outputs": [],
   "source": [
    "def generate_document(urls):\n",
    "    \"Given an URL, return a langchain Document to futher processing\"\n",
    "    loader = UnstructuredURLLoader(\n",
    "        urls=urls,\n",
    "        mode=\"elements\",\n",
    "        post_processors=[\n",
    "            clean,\n",
    "            remove_punctuation,\n",
    "            clean_extra_whitespace,\n",
    "        ],\n",
    "    )\n",
    "    elements = loader.load()\n",
    "    return filter_complex_metadata(elements)"
   ]
  },
  {
   "cell_type": "code",
   "execution_count": 65,
   "metadata": {},
   "outputs": [],
   "source": [
    "docs_list = generate_document(urls)"
   ]
  },
  {
   "cell_type": "code",
   "execution_count": 54,
   "metadata": {},
   "outputs": [],
   "source": [
    "# print(\"Length of docs: \", len(docs_list))\n",
    "# print(\"Docs List: \", docs_list)"
   ]
  },
  {
   "cell_type": "code",
   "execution_count": 66,
   "metadata": {},
   "outputs": [],
   "source": [
    "# vectorstore = Chroma.from_documents(docs_list, \n",
    "#                                     embedding=OpenAIEmbeddings(), \n",
    "#                                     collection_name=\"rag_chroma\",\n",
    "#                                     persist_directory=\"./.chroma\")"
   ]
  },
  {
   "cell_type": "code",
   "execution_count": 5,
   "metadata": {},
   "outputs": [],
   "source": [
    "retriever = Chroma(\n",
    "    collection_name=\"rag_chroma\",\n",
    "    persist_directory=\"./.chroma\",\n",
    "    embedding_function=OpenAIEmbeddings(),\n",
    ").as_retriever()"
   ]
  },
  {
   "cell_type": "code",
   "execution_count": 14,
   "metadata": {},
   "outputs": [],
   "source": [
    "question = \"What does LLM stand for?\""
   ]
  },
  {
   "cell_type": "code",
   "execution_count": 15,
   "metadata": {},
   "outputs": [],
   "source": [
    "docs = retriever.invoke(question)"
   ]
  },
  {
   "cell_type": "code",
   "execution_count": 16,
   "metadata": {},
   "outputs": [
    {
     "name": "stdout",
     "output_type": "stream",
     "text": [
      "[Document(page_content='The LLM is provided with a list of tool names, descriptions of their utility, and details about the expected input/output.', metadata={'category': 'ListItem', 'category_depth': 1, 'filetype': 'text/html', 'parent_id': '81f91154a470509bc00dbd208b8c910b', 'url': 'https://lilianweng.github.io/posts/2023-06-23-agent/'}), Document(page_content='Adversarial Attacks on LLMs', metadata={'category': 'Title', 'category_depth': 0, 'filetype': 'text/html', 'url': 'https://lilianweng.github.io/posts/2023-10-25-adv-attack-llm/'}), Document(page_content='Adversarial Attacks on LLMs', metadata={'category': 'Title', 'category_depth': 0, 'filetype': 'text/html', 'url': 'https://lilianweng.github.io/posts/2023-06-23-agent/'}), Document(page_content='Challenges in long-term planning and task decomposition: Planning over a lengthy history and effectively exploring the solution space remain challenging. LLMs struggle to adjust plans when faced with unexpected errors, making them less robust compared to humans who learn from trial and error.', metadata={'category': 'ListItem', 'category_depth': 1, 'filetype': 'text/html', 'parent_id': '14a9bcee66531408b80068eaae45b2ba', 'url': 'https://lilianweng.github.io/posts/2023-06-23-agent/'})]\n"
     ]
    }
   ],
   "source": [
    "print(docs)"
   ]
  },
  {
   "cell_type": "code",
   "execution_count": 17,
   "metadata": {},
   "outputs": [
    {
     "name": "stdout",
     "output_type": "stream",
     "text": [
      "The LLM is provided with a list of tool names, descriptions of their utility, and details about the expected input/output.\n"
     ]
    }
   ],
   "source": [
    "print(docs[0].page_content)"
   ]
  },
  {
   "cell_type": "code",
   "execution_count": null,
   "metadata": {},
   "outputs": [],
   "source": []
  }
 ],
 "metadata": {
  "kernelspec": {
   "display_name": ".venv",
   "language": "python",
   "name": "python3"
  },
  "language_info": {
   "codemirror_mode": {
    "name": "ipython",
    "version": 3
   },
   "file_extension": ".py",
   "mimetype": "text/x-python",
   "name": "python",
   "nbconvert_exporter": "python",
   "pygments_lexer": "ipython3",
   "version": "3.11.9"
  }
 },
 "nbformat": 4,
 "nbformat_minor": 2
}
