{
 "cells": [
  {
   "cell_type": "code",
   "execution_count": 49,
   "metadata": {},
   "outputs": [],
   "source": [
    "from dotenv import load_dotenv, find_dotenv\n",
    "from langchain.embeddings import OpenAIEmbeddings\n",
    "from langchain_chroma import Chroma\n",
    "\n",
    "\n",
    "_ = load_dotenv(find_dotenv())"
   ]
  },
  {
   "cell_type": "code",
   "execution_count": 50,
   "metadata": {},
   "outputs": [],
   "source": [
    "urls = [\n",
    "    \"https://lilianweng.github.io/posts/2023-06-23-agent/\",\n",
    "    \"https://lilianweng.github.io/posts/2023-03-15-prompt-engineering/\",\n",
    "    \"https://lilianweng.github.io/posts/2023-10-25-adv-attack-llm/\",\n",
    "]"
   ]
  },
  {
   "cell_type": "code",
   "execution_count": 63,
   "metadata": {},
   "outputs": [],
   "source": [
    "from langchain.document_loaders import UnstructuredURLLoader\n",
    "from unstructured.cleaners.core import remove_punctuation, clean, clean_extra_whitespace\n",
    "from langchain_community.vectorstores.utils import filter_complex_metadata"
   ]
  },
  {
   "cell_type": "code",
   "execution_count": 64,
   "metadata": {},
   "outputs": [],
   "source": [
    "def generate_document(urls):\n",
    "    \"Given an URL, return a langchain Document to futher processing\"\n",
    "    loader = UnstructuredURLLoader(\n",
    "        urls=urls,\n",
    "        mode=\"elements\",\n",
    "        post_processors=[\n",
    "            clean,\n",
    "            remove_punctuation,\n",
    "            clean_extra_whitespace,\n",
    "        ],\n",
    "    )\n",
    "    elements = loader.load()\n",
    "    return filter_complex_metadata(elements)"
   ]
  },
  {
   "cell_type": "code",
   "execution_count": 65,
   "metadata": {},
   "outputs": [],
   "source": [
    "docs_list = generate_document(urls)"
   ]
  },
  {
   "cell_type": "code",
   "execution_count": 54,
   "metadata": {},
   "outputs": [],
   "source": [
    "# print(\"Length of docs: \", len(docs_list))\n",
    "# print(\"Docs List: \", docs_list)"
   ]
  },
  {
   "cell_type": "code",
   "execution_count": 66,
   "metadata": {},
   "outputs": [],
   "source": [
    "# vectorstore = Chroma.from_documents(docs_list, \n",
    "#                                     embedding=OpenAIEmbeddings(), \n",
    "#                                     collection_name=\"rag_chroma\",\n",
    "#                                     persist_directory=\"./.chroma\")"
   ]
  },
  {
   "cell_type": "code",
   "execution_count": 68,
   "metadata": {},
   "outputs": [],
   "source": [
    "retriever = Chroma(\n",
    "    collection_name=\"rag_chroma\",\n",
    "    persist_directory=\"./.chroma\",\n",
    "    embedding_function=OpenAIEmbeddings(),\n",
    ").as_retriever()"
   ]
  }
 ],
 "metadata": {
  "kernelspec": {
   "display_name": ".venv",
   "language": "python",
   "name": "python3"
  },
  "language_info": {
   "codemirror_mode": {
    "name": "ipython",
    "version": 3
   },
   "file_extension": ".py",
   "mimetype": "text/x-python",
   "name": "python",
   "nbconvert_exporter": "python",
   "pygments_lexer": "ipython3",
   "version": "3.11.9"
  }
 },
 "nbformat": 4,
 "nbformat_minor": 2
}
